{
 "cells": [
  {
   "cell_type": "markdown",
   "metadata": {},
   "source": [
    "Bibliography:\n",
    "\n",
    "[1] [@bank2021autoencoders]: Dor Bank, Noam Koenigstein, and Raja Giryes. \"Autoencoders.\" arXiv preprint arXiv:2003.05991 (2021).\n"
   ]
  },
  {
   "cell_type": "markdown",
   "metadata": {},
   "source": [
    "# Visualising data with Autoencoders and Variational Autoencoders\n",
    "\n",
    "### 1. FMNIST preparation\n",
    "\n",
    "First download dataset from github.\n",
    "https://github.com/zalandoresearch/fashion-mnist\n",
    "\n",
    "I recommend to clone their repository (Best to do that outside of your local repo)\n",
    "It will also provide us with loading functions\n",
    "\n",
    "git clone https://github.com/zalandoresearch/fashion-mnist.git   \n",
    "\n",
    "If cloned images/labels should be in fashion-mnist\\data\\fashion\n"
   ]
  },
  {
   "cell_type": "markdown",
   "metadata": {},
   "source": []
  },
  {
   "cell_type": "code",
   "execution_count": 64,
   "metadata": {},
   "outputs": [],
   "source": [
    "import sys\n",
    "#set your path to the fashion-mnist/utils folder\n",
    "sys.path.append('../fashion-mnist/utils')\n",
    "import mnist_reader\n"
   ]
  },
  {
   "cell_type": "code",
   "execution_count": 65,
   "metadata": {},
   "outputs": [],
   "source": [
    "X_train, y_train = mnist_reader.load_mnist('../fashion-mnist/data/fashion', kind='train')\n",
    "X_test, y_test = mnist_reader.load_mnist('../fashion-mnist/data/fashion', kind='t10k')"
   ]
  },
  {
   "cell_type": "code",
   "execution_count": 66,
   "metadata": {},
   "outputs": [
    {
     "name": "stdout",
     "output_type": "stream",
     "text": [
      "(60000, 784)\n",
      "(60000,)\n",
      "(10000, 784)\n",
      "(10000,)\n"
     ]
    }
   ],
   "source": [
    "print(X_train.shape)\n",
    "print(y_train.shape)\n",
    "print(X_test.shape)\n",
    "print(y_test.shape)"
   ]
  },
  {
   "cell_type": "code",
   "execution_count": 67,
   "metadata": {},
   "outputs": [
    {
     "data": {
      "text/plain": [
       "<matplotlib.image.AxesImage at 0x2a4c6883a90>"
      ]
     },
     "execution_count": 67,
     "metadata": {},
     "output_type": "execute_result"
    },
    {
     "data": {
      "image/png": "[encoded data removed]",
      "text/plain": [
       "<Figure size 640x480 with 1 Axes>"
      ]
     },
     "metadata": {},
     "output_type": "display_data"
    }
   ],
   "source": [
    "#show first 10 images \n",
    "import matplotlib.pyplot as plt\n",
    "import numpy as np\n",
    "plt.imshow(np.hstack(X_train[:10].reshape(10,28,28)), cmap='gray')"
   ]
  },
  {
   "cell_type": "code",
   "execution_count": 68,
   "metadata": {},
   "outputs": [
    {
     "data": {
      "text/plain": [
       "(0, 255)"
      ]
     },
     "execution_count": 68,
     "metadata": {},
     "output_type": "execute_result"
    }
   ],
   "source": [
    "X_train.min(), X_train.max()\n"
   ]
  },
  {
   "cell_type": "markdown",
   "metadata": {},
   "source": [
    "Lets normalize data to 0,1"
   ]
  },
  {
   "cell_type": "code",
   "execution_count": 69,
   "metadata": {},
   "outputs": [],
   "source": [
    "X_train = X_train / X_train.max()\n",
    "X_test = X_test / X_test.max()\n"
   ]
  },
  {
   "cell_type": "markdown",
   "metadata": {},
   "source": [
    "### 2. Autoencoders \n",
    "Network trained to reduce number of dimmensions in data while perserving minimal reconstruction loss of information.\n",
    "It's composed of 2 layers where one compresses and second one decompresses input data. While both compresser and decompresser are trained silmutainously they minimise loss of information after that 2 procedures. "
   ]
  },
  {
   "cell_type": "markdown",
   "metadata": {},
   "source": [
    "   - Zastosowania Autoencoderów\n"
   ]
  },
  {
   "cell_type": "markdown",
   "metadata": {},
   "source": [
    "Dimensionality Reduction (reducing number of dimmensions of input data)\n",
    "\n",
    "- It can be used as lossy Image/Audio Compression \n",
    "- even as substitute of methods like TSNE to compress numerical data into 2/3 dimmensions to plot them.\n",
    "\n",
    "Image Denoising - AE can be trained to recover data from noised verision (ex. Variational AutoEncoder)\n",
    "\n",
    "Variational Autoencoder about which will be next section can also be used for generative modeling.\n",
    "\n",
    "    \n",
    "\n",
    "\n"
   ]
  },
  {
   "cell_type": "markdown",
   "metadata": {},
   "source": [
    "   - Model explanation (encoding - decoding)\n"
   ]
  },
  {
   "cell_type": "markdown",
   "metadata": {},
   "source": [
    "![\n",
    "    Autoencoder model architecture from [1] [@bank2021autoencoders]\n",
    "](aemodel.png)\n",
    " \n",
    " Autoencoder model architecture from [1] [@bank2021autoencoders]\n",
    "\n",
    "Autoencoders are models that are composed of 2 sections: Encoding layer, Decoding layer.\n",
    "\n",
    "\n",
    "Both are simple dense layers where encoding should be of size:\n",
    "\n",
    "`INPUT_SIZE` -> `LATENT SPACE SIZE`\n",
    "\n",
    "where if we want it to encode, `LATENT SPACE` should be smaller than `INPUT_SIZE`. On its own, if we pass data through a layer that gives a smaller output, we will receive less information. That reduced form, which we will denote as `R`:\n",
    "\n",
    "Input -> `ENCODER` -> Reduced representation `R`\n",
    "\n",
    "That reduced output goes now to the second layer, which is `DECODER`. The decoder does the inverse mechanism. It will be a dense layer that should, as input, take \n",
    "\n",
    "`LATENT SPACE SIZE` data and transform it back to `INPUT_SIZE` data.\n",
    "\n",
    "`INPUT_SIZE` -> `LATENT SPACE SIZE` -> `LATENT SPACE SIZE` -> `INPUT_SIZE`\n"
   ]
  },
  {
   "cell_type": "code",
   "execution_count": 70,
   "metadata": {},
   "outputs": [
    {
     "name": "stdout",
     "output_type": "stream",
     "text": [
      "(60000, 784)\n"
     ]
    }
   ],
   "source": [
    "#show size of input data\n",
    "print(X_train.shape)"
   ]
  },
  {
   "cell_type": "markdown",
   "metadata": {},
   "source": [
    "`INPUT SIZE` is 784\n",
    "\n",
    "As `LATENT SPACE SIZE` we need something smaller and for this to be visualisable lets keep it square: for example 20*20 = 400\n"
   ]
  },
  {
   "cell_type": "markdown",
   "metadata": {},
   "source": [
    "So in summary\n",
    "ENCODER:\n",
    "\n",
    "- Dense layer (INPUT_SIZE -> LATENT)\n",
    "- Activation function ( sigmoid best as it gives output in 0-1)\n",
    "\n",
    "->\n",
    "\n",
    "DECODER:\n",
    "\n",
    "- Dense layer (LATENT -> INPUT_SIZE)\n",
    "- Activation function ( sigmoid best as it gives output in 0-1)\n"
   ]
  },
  {
   "cell_type": "code",
   "execution_count": 71,
   "metadata": {},
   "outputs": [],
   "source": [
    "\n",
    "INPUT_SIZE = 28*28\n",
    "LATENT_SPACE_SIZE = 20*20\n",
    "LATENT_SPACE_SIDE = 20"
   ]
  },
  {
   "cell_type": "code",
   "execution_count": 72,
   "metadata": {},
   "outputs": [],
   "source": [
    "import torch.nn as nn\n",
    "\n",
    "class Autoencoder(nn.Module):\n",
    "    def __init__(self):\n",
    "        super(Autoencoder, self).__init__()\n",
    "        self.encoder = nn.Sequential(\n",
    "            nn.Linear(INPUT_SIZE, LATENT_SPACE_SIZE),\n",
    "            nn.ReLU(),\n",
    "        )\n",
    "        self.decoder = nn.Sequential(\n",
    "            nn.Linear(LATENT_SPACE_SIZE, INPUT_SIZE),\n",
    "            nn.Sigmoid(),\n",
    "        )\n",
    "        \n",
    "    def encode(self, x):\n",
    "        return self.encoder(x)\n",
    "    \n",
    "    def forward(self, x):\n",
    "        x = self.encoder(x)\n",
    "        x = self.decoder(x)\n",
    "        return x"
   ]
  },
  {
   "cell_type": "markdown",
   "metadata": {},
   "source": [
    "### training\n",
    "\n",
    "Having a way to compress and decompress data now it's time to direct this mechanism into better results.\n",
    "As the cost function we will calculate difference between input_image and output after encoding and decoding.\n",
    "Our goal is to train encoder and decoding layer is mostly used for training so that we are able to compare output with input.\n",
    "\n",
    "A -> encode -> B -> decode -> C\n",
    "\n",
    "    cost = abs( A - C ) loss of information which we want to minimalize\n",
    "\n",
    "Knowing what we want from our cost function we will use MSE: \n",
    "mean square error which will look like this:\n",
    "\n",
    "    cost = mean( (A - C)^2 )"
   ]
  },
  {
   "cell_type": "code",
   "execution_count": 73,
   "metadata": {},
   "outputs": [],
   "source": [
    "def cost_function(recon_x, x):\n",
    "    MSE = nn.MSELoss()\n",
    "    return MSE(recon_x, x)"
   ]
  },
  {
   "cell_type": "markdown",
   "metadata": {},
   "source": [
    "Before training let's also prepare function that will allow us to preview image in reduced representation, to validate empirically our progress."
   ]
  },
  {
   "cell_type": "code",
   "execution_count": 74,
   "metadata": {},
   "outputs": [],
   "source": [
    "import torch\n",
    "\n",
    "def sample(model, test_samples):\n",
    "    model.eval()\n",
    "    with torch.no_grad():\n",
    "        return model(test_samples)\n",
    "    \n",
    "def preview_samples( samples, image_shape=(28,28) ):\n",
    "    plt.imshow(np.hstack(samples.reshape(-1 ,image_shape[0], image_shape[1])))\n",
    "    plt.show()"
   ]
  },
  {
   "cell_type": "code",
   "execution_count": 75,
   "metadata": {},
   "outputs": [],
   "source": [
    "#split training data into batches\n",
    "EPOCHS = 10\n",
    "BATCH_SIZE = 64\n",
    "LEARNING_RATE = 1e-3\n",
    "\n",
    "X_train = torch.tensor(X_train, dtype=torch.float32)\n",
    "X_test = torch.tensor(X_test, dtype=torch.float32)\n",
    "batched_data = torch.utils.data.DataLoader(X_train, batch_size=BATCH_SIZE, shuffle=True)\n",
    "#convert to float32\n",
    "\n"
   ]
  },
  {
   "cell_type": "code",
   "execution_count": null,
   "metadata": {},
   "outputs": [],
   "source": []
  },
  {
   "cell_type": "code",
   "execution_count": 79,
   "metadata": {},
   "outputs": [
    {
     "name": "stdout",
     "output_type": "stream",
     "text": [
      "Epoch 0 Loss: 0.17648351192474365\n",
      "Original samples\n"
     ]
    },
    {
     "data": {
      "image/png": "[encoded data removed]",
      "text/plain": [
       "<Figure size 640x480 with 1 Axes>"
      ]
     },
     "metadata": {},
     "output_type": "display_data"
    },
    {
     "name": "stdout",
     "output_type": "stream",
     "text": [
      "Compressed samples\n"
     ]
    },
    {
     "ename": "ValueError",
     "evalue": "cannot reshape array of size 4000 into shape (28,28)",
     "output_type": "error",
     "traceback": [
      "\u001b[1;31m---------------------------------------------------------------------------\u001b[0m",
      "\u001b[1;31mValueError\u001b[0m                                Traceback (most recent call last)",
      "Cell \u001b[1;32mIn[79], line 16\u001b[0m\n\u001b[0;32m     14\u001b[0m preview_samples(sample_data)\n\u001b[0;32m     15\u001b[0m \u001b[38;5;28mprint\u001b[39m(\u001b[38;5;124m\"\u001b[39m\u001b[38;5;124mCompressed samples\u001b[39m\u001b[38;5;124m\"\u001b[39m)\n\u001b[1;32m---> 16\u001b[0m \u001b[43mpreview_samples\u001b[49m\u001b[43m(\u001b[49m\u001b[43mae\u001b[49m\u001b[38;5;241;43m.\u001b[39;49m\u001b[43mencode\u001b[49m\u001b[43m(\u001b[49m\u001b[43msample_data\u001b[49m\u001b[43m)\u001b[49m\u001b[38;5;241;43m.\u001b[39;49m\u001b[43mdetach\u001b[49m\u001b[43m(\u001b[49m\u001b[43m)\u001b[49m\u001b[38;5;241;43m.\u001b[39;49m\u001b[43mnumpy\u001b[49m\u001b[43m(\u001b[49m\u001b[43m)\u001b[49m\u001b[43m)\u001b[49m\n\u001b[0;32m     17\u001b[0m \u001b[38;5;28mprint\u001b[39m(\u001b[38;5;124m'\u001b[39m\u001b[38;5;124mReconstructed samples\u001b[39m\u001b[38;5;124m'\u001b[39m)\n\u001b[0;32m     18\u001b[0m preview_samples(sample(ae, sample_data)\u001b[38;5;241m.\u001b[39mnumpy())\n",
      "Cell \u001b[1;32mIn[74], line 9\u001b[0m, in \u001b[0;36mpreview_samples\u001b[1;34m(samples, image_shape)\u001b[0m\n\u001b[0;32m      8\u001b[0m \u001b[38;5;28;01mdef\u001b[39;00m \u001b[38;5;21mpreview_samples\u001b[39m( samples, image_shape\u001b[38;5;241m=\u001b[39m(\u001b[38;5;241m28\u001b[39m,\u001b[38;5;241m28\u001b[39m) ):\n\u001b[1;32m----> 9\u001b[0m     plt\u001b[38;5;241m.\u001b[39mimshow(np\u001b[38;5;241m.\u001b[39mhstack(\u001b[43msamples\u001b[49m\u001b[38;5;241;43m.\u001b[39;49m\u001b[43mreshape\u001b[49m\u001b[43m(\u001b[49m\u001b[38;5;241;43m-\u001b[39;49m\u001b[38;5;241;43m1\u001b[39;49m\u001b[43m \u001b[49m\u001b[43m,\u001b[49m\u001b[43mimage_shape\u001b[49m\u001b[43m[\u001b[49m\u001b[38;5;241;43m0\u001b[39;49m\u001b[43m]\u001b[49m\u001b[43m,\u001b[49m\u001b[43m \u001b[49m\u001b[43mimage_shape\u001b[49m\u001b[43m[\u001b[49m\u001b[38;5;241;43m1\u001b[39;49m\u001b[43m]\u001b[49m\u001b[43m)\u001b[49m))\n\u001b[0;32m     10\u001b[0m     plt\u001b[38;5;241m.\u001b[39mshow()\n",
      "\u001b[1;31mValueError\u001b[0m: cannot reshape array of size 4000 into shape (28,28)"
     ]
    }
   ],
   "source": [
    "\n",
    "\n",
    "ae = Autoencoder()\n",
    "\n",
    "for i in range(EPOCHS):\n",
    "    for batch in batched_data:\n",
    "        ae.zero_grad()\n",
    "        recon_batch = ae(batch)\n",
    "        loss = cost_function(recon_batch, batch)\n",
    "        loss.backward()\n",
    "        for param in ae.parameters():\n",
    "            param.data -= LEARNING_RATE * param.grad.data\n",
    "    print(f'Epoch {i} Loss: {loss.item()}')\n",
    "    sample_data = X_test[:10].view(-1, INPUT_SIZE)\n",
    "    print('Original samples')\n",
    "    preview_samples(sample_data)\n",
    "    print(\"Compressed samples\")\n",
    "    preview_samples(ae.encode(sample_data).detach().numpy())\n",
    "    print('Reconstructed samples')\n",
    "    preview_samples(sample(ae, sample_data).numpy())"
   ]
  },
  {
   "cell_type": "markdown",
   "metadata": {},
   "source": [
    "   - Encoding to 2 dimensions and plotting (tak jest przy wielowymiarowych danych, do FMNISTA to nie wiem jeszcze do końca co my tam mamy wizualizować, chyba że inne dane)"
   ]
  },
  {
   "cell_type": "markdown",
   "metadata": {},
   "source": [
    "\n",
    "### 3. Variational Autoencoder \n",
    "   - Model explanation \n",
    "   - Mathematical formulas for noise injection \n",
    "   - Encoding to 2 dimensions and plotting\n",
    "   - Probkowanie fantazji sieci\n"
   ]
  },
  {
   "cell_type": "markdown",
   "metadata": {},
   "source": [
    "### 4. Porównanie dwóch metod\n"
   ]
  },
  {
   "cell_type": "code",
   "execution_count": null,
   "metadata": {},
   "outputs": [],
   "source": []
  }
 ],
 "metadata": {
  "kernelspec": {
   "display_name": ".venv",
   "language": "python",
   "name": "python3"
  },
  "language_info": {
   "codemirror_mode": {
    "name": "ipython",
    "version": 3
   },
   "file_extension": ".py",
   "mimetype": "text/x-python",
   "name": "python",
   "nbconvert_exporter": "python",
   "pygments_lexer": "ipython3",
   "version": "3.10.5"
  }
 },
 "nbformat": 4,
 "nbformat_minor": 2
}
