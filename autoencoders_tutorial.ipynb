{
 "cells": [
  {
   "cell_type": "markdown",
   "metadata": {},
   "source": [
    "# Visualising data with Autoencoders and Variational Autoencoders\n",
    "\n",
    "### 1. FMNIST preparation\n"
   ]
  },
  {
   "cell_type": "code",
   "execution_count": null,
   "metadata": {},
   "outputs": [],
   "source": []
  },
  {
   "cell_type": "markdown",
   "metadata": {},
   "source": [
    "### 2. Autoencoders \n",
    "   - Model explanation (encoding - decoding)\n",
    "   - Zastosowania Autoencoderów\n",
    "   - Encoding to 2 dimensions and plotting (tak jest przy wielowymiarowych danych, do FMNISTA to nie wiem jeszcze do końca co my tam mamy wizualizować, chyba że inne dane)\n",
    "\n"
   ]
  },
  {
   "cell_type": "markdown",
   "metadata": {},
   "source": [
    "\n",
    "### 3. Variational Autoencoder \n",
    "   - Model explanation \n",
    "   - Mathematical formulas for noise injection \n",
    "   - Encoding to 2 dimensions and plotting\n",
    "   - Probkowanie fantazji sieci\n"
   ]
  },
  {
   "cell_type": "markdown",
   "metadata": {},
   "source": [
    "### 4. Porównanie dwóch metod\n"
   ]
  },
  {
   "cell_type": "code",
   "execution_count": null,
   "metadata": {},
   "outputs": [],
   "source": []
  }
 ],
 "metadata": {
  "language_info": {
   "name": "python"
  }
 },
 "nbformat": 4,
 "nbformat_minor": 2
}
