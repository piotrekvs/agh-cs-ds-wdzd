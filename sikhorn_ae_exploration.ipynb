{
 "cells": [
  {
   "cell_type": "markdown",
   "metadata": {},
   "source": [
    "# Sinkhorns autoencoder \n",
    "\n",
    "implementation by @KamilDeja (github) https://github.com/KamilDeja/e2e_sinkhorn_autoencoder/blob/main/MNIST_simple_example.ipynb"
   ]
  },
  {
   "cell_type": "code",
   "execution_count": 1,
   "metadata": {},
   "outputs": [
    {
     "name": "stdout",
     "output_type": "stream",
     "text": [
      "Requirement already satisfied: geomloss in e:\\users\\qesterius\\documents\\studia\\wizualizacja_duzych_zbiorow_danych\\.venv\\lib\\site-packages (0.2.6)\n",
      "Requirement already satisfied: torch in e:\\users\\qesterius\\documents\\studia\\wizualizacja_duzych_zbiorow_danych\\.venv\\lib\\site-packages (from geomloss) (2.2.2)\n",
      "Requirement already satisfied: numpy in e:\\users\\qesterius\\documents\\studia\\wizualizacja_duzych_zbiorow_danych\\.venv\\lib\\site-packages (from geomloss) (1.26.4)\n",
      "Requirement already satisfied: jinja2 in e:\\users\\qesterius\\documents\\studia\\wizualizacja_duzych_zbiorow_danych\\.venv\\lib\\site-packages (from torch->geomloss) (3.1.3)\n",
      "Requirement already satisfied: typing-extensions>=4.8.0 in e:\\users\\qesterius\\documents\\studia\\wizualizacja_duzych_zbiorow_danych\\.venv\\lib\\site-packages (from torch->geomloss) (4.11.0)\n",
      "Requirement already satisfied: networkx in e:\\users\\qesterius\\documents\\studia\\wizualizacja_duzych_zbiorow_danych\\.venv\\lib\\site-packages (from torch->geomloss) (3.3)\n",
      "Requirement already satisfied: filelock in e:\\users\\qesterius\\documents\\studia\\wizualizacja_duzych_zbiorow_danych\\.venv\\lib\\site-packages (from torch->geomloss) (3.13.4)\n",
      "Requirement already satisfied: fsspec in e:\\users\\qesterius\\documents\\studia\\wizualizacja_duzych_zbiorow_danych\\.venv\\lib\\site-packages (from torch->geomloss) (2024.3.1)\n",
      "Requirement already satisfied: sympy in e:\\users\\qesterius\\documents\\studia\\wizualizacja_duzych_zbiorow_danych\\.venv\\lib\\site-packages (from torch->geomloss) (1.12)\n",
      "Requirement already satisfied: MarkupSafe>=2.0 in e:\\users\\qesterius\\documents\\studia\\wizualizacja_duzych_zbiorow_danych\\.venv\\lib\\site-packages (from jinja2->torch->geomloss) (2.1.5)\n",
      "Requirement already satisfied: mpmath>=0.19 in e:\\users\\qesterius\\documents\\studia\\wizualizacja_duzych_zbiorow_danych\\.venv\\lib\\site-packages (from sympy->torch->geomloss) (1.3.0)\n"
     ]
    },
    {
     "name": "stderr",
     "output_type": "stream",
     "text": [
      "WARNING: You are using pip version 22.0.4; however, version 24.0 is available.\n",
      "You should consider upgrading via the 'E:\\Users\\qesterius\\Documents\\Studia\\Wizualizacja_duzych_zbiorow_danych\\.venv\\Scripts\\python.exe -m pip install --upgrade pip' command.\n"
     ]
    }
   ],
   "source": [
    "!pip install geomloss"
   ]
  },
  {
   "cell_type": "code",
   "execution_count": 2,
   "metadata": {},
   "outputs": [],
   "source": [
    "import torch.nn as nn\n",
    "import torch.nn.functional as F\n",
    "from geomloss import SamplesLoss\n",
    "import torch\n",
    "\n",
    "class Autoencoder(nn.Module):\n",
    "    def __init__(self, g_input_dim, cond_dim):\n",
    "        super(Autoencoder, self).__init__()\n",
    "        self.d = 64\n",
    "        self.conv1 = nn.Conv2d(in_channels=1, out_channels=self.d, kernel_size=4, stride=2, padding=1, bias=False)\n",
    "        self.bn_1 = nn.BatchNorm2d(self.d)\n",
    "        self.conv2 = nn.Conv2d(self.d, self.d, kernel_size=4, stride=2, padding=1, bias=False)\n",
    "        self.bn_2 = nn.BatchNorm2d(self.d)\n",
    "        self.conv3 = nn.Conv2d(self.d, self.d, kernel_size=4, stride=2, padding=1, bias=False)\n",
    "        self.bn_3 = nn.BatchNorm2d(self.d)\n",
    "        self.fc3 = nn.Linear(self.d*9, self.d//4)\n",
    "\n",
    "        self.fc1 = nn.Linear(self.d//4, self.d*4)\n",
    "        self.dc1 = nn.ConvTranspose2d( self.d, self.d * 4, 4, 2, 0, bias=False)\n",
    "        self.dc1_bn = nn.BatchNorm2d(self.d*4)\n",
    "        self.dc2 = nn.ConvTranspose2d( self.d * 4, self.d * 2, 4, 2, 1, bias=False)\n",
    "        self.dc2_bn = nn.BatchNorm2d(self.d*2)\n",
    "        self.dc3 = nn.ConvTranspose2d( self.d * 2, self.d , 4, 1, 1, bias=False)\n",
    "        self.dc3_bn = nn.BatchNorm2d(self.d)\n",
    "        self.dc4 = nn.ConvTranspose2d( self.d , 1, 4, 2, 0, bias=False)    \n",
    "        \n",
    "\n",
    "############        noise_gen\n",
    "        self.ng_fc1 = nn.Linear(g_input_dim, self.d*2)\n",
    "        self.ng_input_2 = nn.Linear(cond_dim,self.d)\n",
    "        self.ng_fc2 = nn.Linear(self.d*3, self.d*4)\n",
    "        self.ng_fc3 = nn.Linear(self.d*4, self.d*3)\n",
    "        self.ng_fc4 = nn.Linear(self.d*3, self.d//4)\n",
    "############\n",
    "\n",
    "        for m in self.modules():\n",
    "            classname = m.__class__.__name__\n",
    "            if classname.find('Conv') != -1:\n",
    "                nn.init.normal_(m.weight.data, 0.0, 0.02)\n",
    "            elif (classname.find('BatchNorm') != -1):#|(classname.find('Linear') != -1):\n",
    "                nn.init.normal_(m.weight.data, 1.0, 0.02)\n",
    "                nn.init.constant_(m.bias.data, 0)\n",
    "    \n",
    "    # forward method\n",
    "    def forward(self, x):\n",
    "        x = self.conv1(x)\n",
    "        x = F.leaky_relu(self.bn_1(x))\n",
    "        x = self.conv2(x)\n",
    "        x = F.leaky_relu(self.bn_2(x))\n",
    "        x = self.conv3(x)\n",
    "        x = F.leaky_relu(self.bn_3(x))\n",
    "        x = x.view([-1,self.d*9])\n",
    "        y = self.fc3(x)\n",
    "\n",
    "        x = F.leaky_relu(self.fc1(y))\n",
    "        x = x.view(-1,self.d,2,2)\n",
    "        x = self.dc1(x)\n",
    "        x = F.leaky_relu(self.dc1_bn(x))\n",
    "        x = self.dc2(x)\n",
    "        x = F.leaky_relu(self.dc2_bn(x))\n",
    "        x = self.dc3(x)\n",
    "        x = F.leaky_relu(self.dc3_bn(x))\n",
    "        return torch.tanh(self.dc4(x)), y\n",
    "    \n",
    "    def generate(self,x):\n",
    "        x = F.leaky_relu(self.fc1(x))\n",
    "        x = x.view(-1,self.d,2,2)\n",
    "        x = self.dc1(x)\n",
    "        x = F.leaky_relu(self.dc1_bn(x))\n",
    "        x = self.dc2(x)\n",
    "        x =F.leaky_relu(self.dc2_bn(x))\n",
    "        x = self.dc3(x)\n",
    "        x = F.leaky_relu(self.dc3_bn(x))\n",
    "        return torch.tanh(self.dc4(x))\n",
    "    \n",
    "    def generate_noise(self, x, cond_x): \n",
    "        x = F.leaky_relu(self.ng_fc1(x), 0.2)\n",
    "        x2 = F.leaky_relu(self.ng_input_2(cond_x), 0.2)\n",
    "        x_concat = torch.cat((x,x2),1)\n",
    "        x = F.leaky_relu(self.ng_fc2(x_concat), 0.2)\n",
    "        x = F.leaky_relu(self.ng_fc3(x), 0.2)\n",
    "        x = self.ng_fc4(x)\n",
    "        return x"
   ]
  },
  {
   "cell_type": "markdown",
   "metadata": {},
   "source": [
    "# FMNIST dataset"
   ]
  },
  {
   "cell_type": "code",
   "execution_count": null,
   "metadata": {},
   "outputs": [],
   "source": [
    "!pip install torchvision"
   ]
  },
  {
   "cell_type": "code",
   "execution_count": 3,
   "metadata": {},
   "outputs": [
    {
     "name": "stdout",
     "output_type": "stream",
     "text": [
      "(60000, 784)\n",
      "(60000,)\n",
      "(10000, 784)\n",
      "(10000,)\n"
     ]
    },
    {
     "data": {
      "image/png": "[encoded data removed]",
      "text/plain": [
       "<Figure size 640x480 with 1 Axes>"
      ]
     },
     "metadata": {},
     "output_type": "display_data"
    },
    {
     "data": {
      "image/png": "[encoded data removed]",
      "text/plain": [
       "<Figure size 640x480 with 1 Axes>"
      ]
     },
     "metadata": {},
     "output_type": "display_data"
    }
   ],
   "source": [
    "from torchvision.datasets import FashionMNIST\n",
    "\n",
    "train = FashionMNIST(\"\",download=True,train=True)\n",
    "test = FashionMNIST(\"\",download=True,train=False)\n",
    "\n",
    "\n",
    "X_train, y_train = train.data, train.targets\n",
    "X_test, y_test = test.data, test.targets\n",
    "\n",
    "print(X_train.shape)\n",
    "print(y_train.shape)\n",
    "print(X_test.shape)\n",
    "print(y_test.shape)\n",
    "\n",
    "#show first 10 images \n",
    "import matplotlib.pyplot as plt\n",
    "import numpy as np\n",
    "plt.imshow(np.hstack(X_train[:10].reshape(10,28,28)), cmap='gray')\n",
    "plt.show()\n",
    "\n",
    "#normalize data\n",
    "import torch\n",
    "\n",
    "X_train = X_train / X_train.max()\n",
    "X_test = X_test / X_test.max()\n",
    "X_train = torch.tensor(X_train, dtype=torch.float32)\n",
    "X_test = torch.tensor(X_test, dtype=torch.float32)\n",
    "plt.imshow(np.hstack(X_train[:10].reshape(10,28,28)), cmap='gray')\n",
    "plt.show()\n"
   ]
  },
  {
   "cell_type": "markdown",
   "metadata": {},
   "source": [
    "# Training"
   ]
  },
  {
   "cell_type": "code",
   "execution_count": 4,
   "metadata": {},
   "outputs": [],
   "source": [
    "n_classes = 10\n",
    "input_size = 28*28\n",
    "autoencoder = Autoencoder(input_size, n_classes)"
   ]
  },
  {
   "cell_type": "code",
   "execution_count": 5,
   "metadata": {},
   "outputs": [],
   "source": [
    "import torch.optim as optim\n",
    "\n",
    "criterion_mse = nn.MSELoss() #reconstruction loss\n",
    "loss_func = SamplesLoss(\"sinkhorn\", blur=0.05,scaling = 0.95,diameter=0.01,debias=True)\n",
    "lr = 0.0001\n",
    "a_optimizer = optim.Adam(autoencoder.parameters(), lr = lr)\n",
    "scheduler = optim.lr_scheduler.ExponentialLR(a_optimizer, gamma = 0.95)\n",
    "batch_size = 64\n"
   ]
  },
  {
   "cell_type": "code",
   "execution_count": 6,
   "metadata": {},
   "outputs": [
    {
     "name": "stdout",
     "output_type": "stream",
     "text": [
      "9 0\n"
     ]
    }
   ],
   "source": [
    "print(max(y_train), min(y_train))"
   ]
  },
  {
   "cell_type": "code",
   "execution_count": 7,
   "metadata": {},
   "outputs": [
    {
     "name": "stdout",
     "output_type": "stream",
     "text": [
      "torch.Size([60000, 784])\n",
      "(60000,)\n"
     ]
    }
   ],
   "source": [
    "print(X_train.shape)\n",
    "print(y_train.shape)"
   ]
  },
  {
   "cell_type": "code",
   "execution_count": 8,
   "metadata": {},
   "outputs": [
    {
     "name": "stdout",
     "output_type": "stream",
     "text": [
      "937\n"
     ]
    },
    {
     "name": "stderr",
     "output_type": "stream",
     "text": [
      "E:\\Users\\qesterius\\AppData\\Local\\Temp\\ipykernel_11296\\1586784932.py:2: UserWarning: The given NumPy array is not writable, and PyTorch does not support non-writable tensors. This means writing to this tensor will result in undefined behavior. You may want to copy the array to protect its data or make it writable before converting it to a tensor. This type of warning will be suppressed for the rest of this program. (Triggered internally at ..\\torch\\csrc\\utils\\tensor_numpy.cpp:212.)\n",
      "  y_train = torch.Tensor(y_train)\n"
     ]
    }
   ],
   "source": [
    "X_train = torch.Tensor(X_train).view(-1,1,28,28)\n",
    "y_train = torch.Tensor(y_train)\n",
    "y_train = y_train.type(torch.int64)\n",
    "\n",
    "from torch.utils.data import DataLoader, TensorDataset\n",
    "train_dataset = TensorDataset(X_train, y_train)\n",
    "train_loader = DataLoader(train_dataset, batch_size=64, shuffle=True, drop_last=True)\n",
    "print(len(train_loader))"
   ]
  },
  {
   "cell_type": "markdown",
   "metadata": {},
   "source": [
    "BELOW IS JUST PASTED...."
   ]
  },
  {
   "cell_type": "code",
   "execution_count": 9,
   "metadata": {},
   "outputs": [
    {
     "name": "stdout",
     "output_type": "stream",
     "text": [
      "[1/50]: loss_ng: 0.5293, loss_a: 0.0245\n",
      "[2/50]: loss_ng: 0.2694, loss_a: 0.0148\n",
      "[3/50]: loss_ng: 0.2407, loss_a: 0.0134\n",
      "[4/50]: loss_ng: 0.2180, loss_a: 0.0125\n",
      "[5/50]: loss_ng: 0.2020, loss_a: 0.0120\n",
      "[6/50]: loss_ng: 0.1896, loss_a: 0.0116\n"
     ]
    }
   ],
   "source": [
    "n_epoch = 50\n",
    "a_weigth = 1000\n",
    "ng_weigth = 1 \n",
    "\n",
    "autoencoder.train()\n",
    "for epoch in range(1, n_epoch+1):      \n",
    "    ng_losses = []\n",
    "    a_losses = []\n",
    "    mse_losses = []\n",
    "    l2_loss = []\n",
    "    for batch_idx, (x, cond_x) in enumerate(train_loader):\n",
    "        y_onehot = torch.FloatTensor(batch_size, 10)\n",
    "        y_onehot.zero_()\n",
    "        \n",
    "        cond_x = y_onehot.scatter_(1, cond_x.reshape([-1,1]), 1)\n",
    "        \n",
    "        autoencoder.zero_grad()\n",
    "\n",
    "        autoencoder_output, y = autoencoder(x)\n",
    "        \n",
    "        ### STANDARD AUTOENCODER MSE loss\n",
    "        a_loss_mse = criterion_mse(autoencoder_output, x)\n",
    "        \n",
    "        rand_x = torch.rand(batch_size, input_size) ### Generate input noise for the noise generator\n",
    "        rand_y = autoencoder.generate_noise(rand_x,cond_x) ### Generate noise from random vector and conditional params\n",
    "        #`print(x.shape,y.shape, cond_x.shape, rand_y.shape, cond_x.shape)\n",
    "        ng_loss = loss_func(torch.cat([y,cond_x],1), torch.cat([rand_y,cond_x],1)) ### noise generator losss, \n",
    "            #conditional params added to compute also loss for generating noise close to this from other conditionals\n",
    "\n",
    "        s_loss = ng_weigth*ng_loss+ a_weigth*a_loss_mse\n",
    "        s_loss.backward()\n",
    "        \n",
    "        a_optimizer.step()\n",
    "        a_losses.append(a_loss_mse)\n",
    "        ng_losses.append(ng_loss)\n",
    "\n",
    "    print('[%d/%d]: loss_ng: %.4f, loss_a: %.4f' % (\n",
    "            (epoch), n_epoch, torch.mean(torch.FloatTensor(ng_losses)), torch.mean(torch.FloatTensor(a_losses))))#, torch.mean(torch.FloatTensor(mse_losses)), torch.mean(torch.FloatTensor(l2_loss))))\n",
    "    scheduler.step()\n",
    "#     print(\"lr:\",scheduler.get_lr())"
   ]
  }
 ],
 "metadata": {
  "kernelspec": {
   "display_name": ".venv",
   "language": "python",
   "name": "python3"
  },
  "language_info": {
   "codemirror_mode": {
    "name": "ipython",
    "version": 3
   },
   "file_extension": ".py",
   "mimetype": "text/x-python",
   "name": "python",
   "nbconvert_exporter": "python",
   "pygments_lexer": "ipython3",
   "version": "3.10.5"
  }
 },
 "nbformat": 4,
 "nbformat_minor": 2
}
